{
  "cells": [
    {
      "cell_type": "markdown",
      "metadata": {
        "id": "view-in-github",
        "colab_type": "text"
      },
      "source": [
        "<a href=\"https://colab.research.google.com/github/gabriela-aires/SI/blob/main/atividade-si.ipynb\" target=\"_parent\"><img src=\"https://colab.research.google.com/assets/colab-badge.svg\" alt=\"Open In Colab\"/></a>"
      ]
    },
    {
      "cell_type": "markdown",
      "source": [
        "# Criptografia - SI\n",
        "\n",
        "\n",
        "\n",
        "\n",
        "*   Gabriela Aires"
      ],
      "metadata": {
        "id": "hCcwbj29R5kP"
      }
    },
    {
      "cell_type": "markdown",
      "source": [
        "**1°**\n",
        "\n",
        "\n",
        "**Insira uma frase**\n",
        "\n",
        "o que deseja?\n",
        "\n",
        "(1) criptografar \n",
        "\n",
        "(2) descriptografar \n",
        "\n",
        "**digite 1 ou 2 para escolher**"
      ],
      "metadata": {
        "id": "i5zI_DoeSDeG"
      }
    },
    {
      "cell_type": "code",
      "source": [
        "escolha = 2;"
      ],
      "metadata": {
        "id": "-GKn2RmnSIuj"
      },
      "execution_count": 1,
      "outputs": []
    },
    {
      "cell_type": "code",
      "source": [
        "frase = \"LTEOGJZYYPOZDKB\";"
      ],
      "metadata": {
        "id": "I_ugfl55SLMm"
      },
      "execution_count": 2,
      "outputs": []
    },
    {
      "cell_type": "markdown",
      "source": [
        "**2°**\n",
        "\n",
        "**Armazenando dados** "
      ],
      "metadata": {
        "id": "PI2TGZ-6SUl-"
      }
    },
    {
      "cell_type": "code",
      "source": [
        "biblioteca = [' ','A','B','C','D','E','F','G','H','I','J','K','L','M','N','O','P','Q','R','S','T','U','V','W','X','Y','Z','a','b','c','d','e','f','g','h','i','j','k','l','m','n','o','p','q','r','s','t','u','v','x','y','z'];"
      ],
      "metadata": {
        "id": "anJqQhMWSV62"
      },
      "execution_count": 3,
      "outputs": []
    },
    {
      "cell_type": "code",
      "source": [
        "biblioteca [ 28]"
      ],
      "metadata": {
        "colab": {
          "base_uri": "https://localhost:8080/",
          "height": 35
        },
        "id": "o-ehfKznSZwu",
        "outputId": "71268766-7edc-445f-8509-bfb8f9209756"
      },
      "execution_count": 10,
      "outputs": [
        {
          "output_type": "execute_result",
          "data": {
            "text/plain": [
              "'b'"
            ],
            "application/vnd.google.colaboratory.intrinsic+json": {
              "type": "string"
            }
          },
          "metadata": {},
          "execution_count": 10
        }
      ]
    },
    {
      "cell_type": "code",
      "source": [
        "biblioteca [2]"
      ],
      "metadata": {
        "colab": {
          "base_uri": "https://localhost:8080/",
          "height": 35
        },
        "id": "8kocx8EcSbwe",
        "outputId": "9fa8579d-ec91-4090-fb51-a8e76e1a16a2"
      },
      "execution_count": 11,
      "outputs": [
        {
          "output_type": "execute_result",
          "data": {
            "text/plain": [
              "'B'"
            ],
            "application/vnd.google.colaboratory.intrinsic+json": {
              "type": "string"
            }
          },
          "metadata": {},
          "execution_count": 11
        }
      ]
    },
    {
      "cell_type": "markdown",
      "source": [
        "**3°**\n",
        "\n",
        "**Processando**"
      ],
      "metadata": {
        "id": "lmlq6KDtSfVv"
      }
    },
    {
      "cell_type": "code",
      "source": [
        "if escolha == 1:\n",
        "  frase = frase. upper()"
      ],
      "metadata": {
        "id": "x_Iag8DkSgD-"
      },
      "execution_count": 12,
      "outputs": []
    },
    {
      "cell_type": "code",
      "source": [
        "!pip install unidecode\n",
        "from unidecode import unidecode"
      ],
      "metadata": {
        "colab": {
          "base_uri": "https://localhost:8080/"
        },
        "id": "bCWV1njySil-",
        "outputId": "e4d1584c-bd52-44e3-e66e-164373a9bd52"
      },
      "execution_count": 13,
      "outputs": [
        {
          "output_type": "stream",
          "name": "stdout",
          "text": [
            "Looking in indexes: https://pypi.org/simple, https://us-python.pkg.dev/colab-wheels/public/simple/\n",
            "Requirement already satisfied: unidecode in /usr/local/lib/python3.10/dist-packages (1.3.6)\n"
          ]
        }
      ]
    },
    {
      "cell_type": "code",
      "source": [
        "frase"
      ],
      "metadata": {
        "colab": {
          "base_uri": "https://localhost:8080/",
          "height": 35
        },
        "id": "5hj3EvC4SlNG",
        "outputId": "0b0f4fa6-fa57-493f-bd5d-17b06bafff23"
      },
      "execution_count": 14,
      "outputs": [
        {
          "output_type": "execute_result",
          "data": {
            "text/plain": [
              "'LTEOGJZYYPOZDKB'"
            ],
            "application/vnd.google.colaboratory.intrinsic+json": {
              "type": "string"
            }
          },
          "metadata": {},
          "execution_count": 14
        }
      ]
    },
    {
      "cell_type": "code",
      "source": [
        "frase=unidecode(frase)\n",
        "frase"
      ],
      "metadata": {
        "colab": {
          "base_uri": "https://localhost:8080/",
          "height": 35
        },
        "id": "gExpjhxsSoQt",
        "outputId": "033d5171-2bb9-4c0c-eaeb-fb6c2991a87d"
      },
      "execution_count": 15,
      "outputs": [
        {
          "output_type": "execute_result",
          "data": {
            "text/plain": [
              "'LTEOGJZYYPOZDKB'"
            ],
            "application/vnd.google.colaboratory.intrinsic+json": {
              "type": "string"
            }
          },
          "metadata": {},
          "execution_count": 15
        }
      ]
    },
    {
      "cell_type": "code",
      "source": [
        "quant = len(frase)\n",
        "quant"
      ],
      "metadata": {
        "colab": {
          "base_uri": "https://localhost:8080/"
        },
        "id": "OABlYMzOSp_1",
        "outputId": "032dace9-75b2-43d3-8d39-147caa3b386e"
      },
      "execution_count": 16,
      "outputs": [
        {
          "output_type": "execute_result",
          "data": {
            "text/plain": [
              "15"
            ]
          },
          "metadata": {},
          "execution_count": 16
        }
      ]
    },
    {
      "cell_type": "code",
      "source": [
        "n = quant\n",
        "while (n%5 == 0) == False:\n",
        " n= n+1\n",
        " n"
      ],
      "metadata": {
        "id": "bxO0lYQ2SrTF"
      },
      "execution_count": 17,
      "outputs": []
    },
    {
      "cell_type": "code",
      "source": [
        "diferenca = n - quant\n",
        "diferenca"
      ],
      "metadata": {
        "colab": {
          "base_uri": "https://localhost:8080/"
        },
        "id": "5CwIL-GwSsi1",
        "outputId": "58cf641a-2272-49e5-aeea-dc15bb397970"
      },
      "execution_count": 18,
      "outputs": [
        {
          "output_type": "execute_result",
          "data": {
            "text/plain": [
              "0"
            ]
          },
          "metadata": {},
          "execution_count": 18
        }
      ]
    },
    {
      "cell_type": "code",
      "source": [
        "frase = frase + diferenca * ''\n",
        "frase"
      ],
      "metadata": {
        "colab": {
          "base_uri": "https://localhost:8080/",
          "height": 35
        },
        "id": "oNUx1Q3_SuUV",
        "outputId": "437fb731-4136-45cf-80fa-f2ba683b259b"
      },
      "execution_count": 19,
      "outputs": [
        {
          "output_type": "execute_result",
          "data": {
            "text/plain": [
              "'LTEOGJZYYPOZDKB'"
            ],
            "application/vnd.google.colaboratory.intrinsic+json": {
              "type": "string"
            }
          },
          "metadata": {},
          "execution_count": 19
        }
      ]
    },
    {
      "cell_type": "code",
      "source": [
        "fraselista = list(frase)\n",
        "fraselista"
      ],
      "metadata": {
        "colab": {
          "base_uri": "https://localhost:8080/"
        },
        "id": "aaP6ebmcSwDu",
        "outputId": "0cd0e654-d908-42b0-9e21-de18bdba08ac"
      },
      "execution_count": 20,
      "outputs": [
        {
          "output_type": "execute_result",
          "data": {
            "text/plain": [
              "['L', 'T', 'E', 'O', 'G', 'J', 'Z', 'Y', 'Y', 'P', 'O', 'Z', 'D', 'K', 'B']"
            ]
          },
          "metadata": {},
          "execution_count": 20
        }
      ]
    },
    {
      "cell_type": "markdown",
      "source": [
        "**4°**\n",
        "\n",
        "**Codificando** "
      ],
      "metadata": {
        "id": "jcwxokemSyp9"
      }
    },
    {
      "cell_type": "code",
      "source": [
        "x = 0\n",
        "codificado = []\n",
        "for i in fraselista:\n",
        "  cod = biblioteca.index(fraselista[x])\n",
        "  x = x+1\n",
        "  codificado.append(cod)\n",
        "print(codificado)"
      ],
      "metadata": {
        "colab": {
          "base_uri": "https://localhost:8080/"
        },
        "id": "6Sd3HGeXSzf1",
        "outputId": "caff273d-99f8-4fbc-a2ac-677573d202c4"
      },
      "execution_count": 21,
      "outputs": [
        {
          "output_type": "stream",
          "name": "stdout",
          "text": [
            "[12, 20, 5, 15, 7, 10, 26, 25, 25, 16, 15, 26, 4, 11, 2]\n"
          ]
        }
      ]
    },
    {
      "cell_type": "markdown",
      "source": [
        "**5°**\n",
        "\n",
        "**Processando** "
      ],
      "metadata": {
        "id": "zUMkX60YS2lO"
      }
    },
    {
      "cell_type": "code",
      "source": [
        "chave = [10,8,4,11,2]"
      ],
      "metadata": {
        "id": "lOgKHJngS3gN"
      },
      "execution_count": 22,
      "outputs": []
    },
    {
      "cell_type": "code",
      "source": [
        "novachave = []"
      ],
      "metadata": {
        "id": "dgWMMtRNS5SF"
      },
      "execution_count": 23,
      "outputs": []
    },
    {
      "cell_type": "code",
      "source": [
        "while len(novachave) < n :\n",
        "    for i in chave:\n",
        "      novachave.append(i)\n",
        "novachave"
      ],
      "metadata": {
        "colab": {
          "base_uri": "https://localhost:8080/"
        },
        "id": "FWE4fLQnS718",
        "outputId": "78a38196-49d0-4503-8854-af11686c68fd"
      },
      "execution_count": 24,
      "outputs": [
        {
          "output_type": "execute_result",
          "data": {
            "text/plain": [
              "[10, 8, 4, 11, 2, 10, 8, 4, 11, 2, 10, 8, 4, 11, 2]"
            ]
          },
          "metadata": {},
          "execution_count": 24
        }
      ]
    },
    {
      "cell_type": "markdown",
      "source": [
        "**Última etapa**\n",
        "\n",
        "**frase final criptografada**"
      ],
      "metadata": {
        "id": "wvH5csT-S9jt"
      }
    },
    {
      "cell_type": "code",
      "source": [
        "x = 0\n",
        "novocodificado = []\n",
        "for i in codificado:\n",
        "  if escolha == 1:\n",
        "    codi = (codificado[x] + novachave[x])\n",
        "  if escolha == 2:\n",
        "    codi = (codificado[x] - novachave[x])\n",
        "  novocodificado.append(codi)\n",
        "  x = x+1\n",
        "print(novocodificado)"
      ],
      "metadata": {
        "colab": {
          "base_uri": "https://localhost:8080/"
        },
        "id": "Kstg6c84S-SV",
        "outputId": "1371ecf0-5fe3-42ac-bb0e-29ab4f0e67b0"
      },
      "execution_count": 25,
      "outputs": [
        {
          "output_type": "stream",
          "name": "stdout",
          "text": [
            "[2, 12, 1, 4, 5, 0, 18, 21, 14, 14, 5, 18, 0, 0, 0]\n"
          ]
        }
      ]
    },
    {
      "cell_type": "code",
      "source": [
        "x = 0\n",
        "frasecodificada = []\n",
        "while x < len(novocodificado):\n",
        "  codi = biblioteca[novocodificado[x]]\n",
        "  x = x+1\n",
        "  frasecodificada.append(codi)\n",
        "\n",
        "frase = ''.join(map(str, frasecodificada)).strip()\n",
        "frase"
      ],
      "metadata": {
        "colab": {
          "base_uri": "https://localhost:8080/",
          "height": 35
        },
        "id": "Onb97n9LTBad",
        "outputId": "1172d0a1-f1bc-4b55-b732-fd219615c659"
      },
      "execution_count": 26,
      "outputs": [
        {
          "output_type": "execute_result",
          "data": {
            "text/plain": [
              "'BLADE RUNNER'"
            ],
            "application/vnd.google.colaboratory.intrinsic+json": {
              "type": "string"
            }
          },
          "metadata": {},
          "execution_count": 26
        }
      ]
    },
    {
      "cell_type": "markdown",
      "source": [
        "**RESULTADO**"
      ],
      "metadata": {
        "id": "1Cr-BIKnTEfk"
      }
    },
    {
      "cell_type": "code",
      "source": [
        "frase"
      ],
      "metadata": {
        "colab": {
          "base_uri": "https://localhost:8080/",
          "height": 35
        },
        "id": "MCA3DH2eTFMF",
        "outputId": "05af9989-7b76-4796-d709-d770a2b31b22"
      },
      "execution_count": 27,
      "outputs": [
        {
          "output_type": "execute_result",
          "data": {
            "text/plain": [
              "'BLADE RUNNER'"
            ],
            "application/vnd.google.colaboratory.intrinsic+json": {
              "type": "string"
            }
          },
          "metadata": {},
          "execution_count": 27
        }
      ]
    }
  ],
  "metadata": {
    "colab": {
      "name": "Olá, este é o Colaboratory",
      "toc_visible": true,
      "provenance": [],
      "include_colab_link": true
    },
    "kernelspec": {
      "display_name": "Python 3",
      "name": "python3"
    }
  },
  "nbformat": 4,
  "nbformat_minor": 0
}